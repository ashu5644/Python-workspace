{
  "nbformat": 4,
  "nbformat_minor": 0,
  "metadata": {
    "colab": {
      "provenance": [],
      "toc_visible": true,
      "authorship_tag": "ABX9TyM4C7KLC+JYilGzeaCK3LTf",
      "include_colab_link": true
    },
    "kernelspec": {
      "name": "python3",
      "display_name": "Python 3"
    },
    "language_info": {
      "name": "python"
    }
  },
  "cells": [
    {
      "cell_type": "markdown",
      "metadata": {
        "id": "view-in-github",
        "colab_type": "text"
      },
      "source": [
        "<a href=\"https://colab.research.google.com/github/ashu5644/Python-workspace/blob/main/python_regex.ipynb\" target=\"_parent\"><img src=\"https://colab.research.google.com/assets/colab-badge.svg\" alt=\"Open In Colab\"/></a>"
      ]
    },
    {
      "cell_type": "code",
      "execution_count": 1,
      "metadata": {
        "id": "0pK4RvWMpXlN"
      },
      "outputs": [],
      "source": [
        "import re"
      ]
    },
    {
      "cell_type": "code",
      "source": [
        "#re.findall(pattern, string) # [tuple(group1, group2, .....)]\n",
        "#re.search(pattern, string).group(group_number) #  \n",
        "#for greedy search use ? at end in experssion\n",
        "# \\w: word character, \\s: whitespace character, \\b: boundry character b/w word and non-word (word: digit, alphabets, underscore)\n",
        "# whitespace characters: new line, space, carriage return, tab\n",
        "# regex101.com for validating a aregex expression"
      ],
      "metadata": {
        "id": "JULKLRyjpbhR"
      },
      "execution_count": 16,
      "outputs": []
    },
    {
      "cell_type": "code",
      "source": [
        "text = \"Hi My name is Vivek and My age is 29 and my email is vivek@gmail.com\"\n",
        "pattern = r\".* (\\d+).* (\\w+@\\w+.com)\"\n",
        "matches = re.findall(pattern, text)\n",
        "for match_ in matches:\n",
        "  age, email = match_\n",
        "  print(age, email)\n",
        "match_ = re.search(pattern, text)\n",
        "print(match_.group(1), match_.group(2))"
      ],
      "metadata": {
        "colab": {
          "base_uri": "https://localhost:8080/"
        },
        "id": "ygOkcL5kpkjq",
        "outputId": "a94e5fe7-f2e7-44cb-d4fe-9a1950403625"
      },
      "execution_count": 17,
      "outputs": [
        {
          "output_type": "stream",
          "name": "stdout",
          "text": [
            "29 vivek@gmail.com\n",
            "29 vivek@gmail.com\n"
          ]
        }
      ]
    },
    {
      "cell_type": "code",
      "source": [],
      "metadata": {
        "id": "huygBnh5qIFS"
      },
      "execution_count": null,
      "outputs": []
    }
  ]
}