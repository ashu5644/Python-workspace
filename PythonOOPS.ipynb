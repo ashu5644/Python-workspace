{
  "nbformat": 4,
  "nbformat_minor": 0,
  "metadata": {
    "colab": {
      "provenance": [],
      "authorship_tag": "ABX9TyOYCxG84ncoo4bX4HdslSS+",
      "include_colab_link": true
    },
    "kernelspec": {
      "name": "python3",
      "display_name": "Python 3"
    },
    "language_info": {
      "name": "python"
    }
  },
  "cells": [
    {
      "cell_type": "markdown",
      "metadata": {
        "id": "view-in-github",
        "colab_type": "text"
      },
      "source": [
        "<a href=\"https://colab.research.google.com/github/ashu5644/Python-workspace/blob/main/PythonOOPS.ipynb\" target=\"_parent\"><img src=\"https://colab.research.google.com/assets/colab-badge.svg\" alt=\"Open In Colab\"/></a>"
      ]
    },
    {
      "cell_type": "code",
      "execution_count": null,
      "metadata": {
        "id": "G0ctJrNwcpCd"
      },
      "outputs": [],
      "source": []
    },
    {
      "cell_type": "markdown",
      "source": [
        "#Member\t                  Naming\t                            Examples\n",
        "#Public\t      Use the normal naming pattern.\t            radius, calculate_area()\n",
        "#Non-public\t  Include a leading underscore in names.\t    _radius, _calculate_area()\n",
        "#Public members are part of the official interface or API of your classes, #while non-public members aren’t intended to be part of that API. \n",
        "#This means that you shouldn’t use non-public members outside their defining class\n",
        "\n",
        "\n",
        "#Name Mangling: add two leading underscores to attribute and method names, to deny direct access \n",
        "#Name mangling is particularly useful when you want to ensure that a given attribute or method won’t get accidentally overwritten. It’s a way to avoid naming conflicts between classes or subclasses. It’s also useful to prevent subclasses from overriding methods that have been optimized for better performance.\n",
        "\n",
        "\n",
        "#Data classes, enumerations, and named tuples are specially designed to store data. So, they might be the best solution if your class doesn’t have any behavior attached.\n",
        "\n",
        "#If your class has a single method in its API, then you may not require a class.\n",
        "\n",
        "# Class Attributes vs Instance Attributes"
      ],
      "metadata": {
        "id": "pNfAuN4rdBHG"
      }
    },
    {
      "cell_type": "markdown",
      "source": [
        "**Class Attributes**"
      ],
      "metadata": {
        "id": "ZKH985m4gCZB"
      }
    },
    {
      "cell_type": "code",
      "source": [
        "class Demo:\n",
        "  count = 0\n",
        "  def __init__(self):\n",
        "    Demo.count += 1\n",
        "    type(self).count += 1 # flexibility of making changes to classname only, not everywhere class variable is used\n",
        "\n",
        "d1 = Demo()\n",
        "print(d1.count)\n",
        "d2 = Demo()\n",
        "d2.count, Demo.count\n",
        "# class attributes can be accessed by classname or instance\n",
        "# In general, you should use class attributes for sharing data between instances of a class. Any changes on a class attribute will be visible to all the instances of that class.\n",
        "# it’s best to define all instance variables in the .__init__() method\n",
        "# In Python, both classes and instances have a special attribute called .__dict__. \n",
        "# Using .__dict__ to change the value of instance attributes will allow you to avoid RecursionError exceptions when you’re wiring descriptors in Python\n",
        "\n",
        "print(Demo.__dict__)\n",
        "\n",
        "setattr(d1, 'name', 'rohan') # dynamically adding variables\n",
        "d1.name"
      ],
      "metadata": {
        "colab": {
          "base_uri": "https://localhost:8080/",
          "height": 91
        },
        "id": "226Id2Odfxch",
        "outputId": "5228307d-d0db-4558-fd75-26a1e2c5d25e"
      },
      "execution_count": 11,
      "outputs": [
        {
          "output_type": "stream",
          "name": "stdout",
          "text": [
            "2\n",
            "{'__module__': '__main__', 'count': 4, '__init__': <function Demo.__init__ at 0x7f9449c8a5f0>, '__dict__': <attribute '__dict__' of 'Demo' objects>, '__weakref__': <attribute '__weakref__' of 'Demo' objects>, '__doc__': None}\n"
          ]
        },
        {
          "output_type": "execute_result",
          "data": {
            "text/plain": [
              "'rohan'"
            ],
            "application/vnd.google.colaboratory.intrinsic+json": {
              "type": "string"
            }
          },
          "metadata": {},
          "execution_count": 11
        }
      ]
    },
    {
      "cell_type": "markdown",
      "source": [
        "Managed Attributes\n",
        "with managed attributes, you can have function-like behavior and attribute-like access at the same time. You don’t need to change your APIs by replacing attributes with method calls, which can potentially break your users’ code.\n",
        "\n",
        "Using a descriptor to create managed attributes is another powerful way to add function-like behavior to your instance attributes without changing your APIs"
      ],
      "metadata": {
        "id": "oHcoY0MGRosv"
      }
    },
    {
      "cell_type": "code",
      "source": [
        "class Circle:\n",
        "  def __init__(self, radius):\n",
        "    self.radius = radius\n",
        "\n",
        "  @property\n",
        "  def radius(self):\n",
        "    return self._radius\n",
        "\n",
        "  @radius.setter\n",
        "  def radius(self, radius):\n",
        "    if radius<0:\n",
        "      raise ValueError(\"Radius can not be negative\")\n",
        "    self._radius = radius\n",
        "\n",
        "\n",
        "c1 = Circle(100)\n",
        "print(c1.radius)\n",
        "c2 = Circle(-2)\n",
        "print(c2.radius)"
      ],
      "metadata": {
        "colab": {
          "base_uri": "https://localhost:8080/",
          "height": 389
        },
        "id": "kNtOF2fcdFN1",
        "outputId": "f55be2c9-6533-4d22-ef15-033343c76cf0"
      },
      "execution_count": 13,
      "outputs": [
        {
          "output_type": "stream",
          "name": "stdout",
          "text": [
            "100\n"
          ]
        },
        {
          "output_type": "error",
          "ename": "ValueError",
          "evalue": "ignored",
          "traceback": [
            "\u001b[0;31m---------------------------------------------------------------------------\u001b[0m",
            "\u001b[0;31mValueError\u001b[0m                                Traceback (most recent call last)",
            "\u001b[0;32m<ipython-input-13-f6afb524a40f>\u001b[0m in \u001b[0;36m<cell line: 18>\u001b[0;34m()\u001b[0m\n\u001b[1;32m     16\u001b[0m \u001b[0mc1\u001b[0m \u001b[0;34m=\u001b[0m \u001b[0mCircle\u001b[0m\u001b[0;34m(\u001b[0m\u001b[0;36m100\u001b[0m\u001b[0;34m)\u001b[0m\u001b[0;34m\u001b[0m\u001b[0;34m\u001b[0m\u001b[0m\n\u001b[1;32m     17\u001b[0m \u001b[0mprint\u001b[0m\u001b[0;34m(\u001b[0m\u001b[0mc1\u001b[0m\u001b[0;34m.\u001b[0m\u001b[0mradius\u001b[0m\u001b[0;34m)\u001b[0m\u001b[0;34m\u001b[0m\u001b[0;34m\u001b[0m\u001b[0m\n\u001b[0;32m---> 18\u001b[0;31m \u001b[0mc2\u001b[0m \u001b[0;34m=\u001b[0m \u001b[0mCircle\u001b[0m\u001b[0;34m(\u001b[0m\u001b[0;34m-\u001b[0m\u001b[0;36m2\u001b[0m\u001b[0;34m)\u001b[0m\u001b[0;34m\u001b[0m\u001b[0;34m\u001b[0m\u001b[0m\n\u001b[0m\u001b[1;32m     19\u001b[0m \u001b[0mprint\u001b[0m\u001b[0;34m(\u001b[0m\u001b[0mc2\u001b[0m\u001b[0;34m.\u001b[0m\u001b[0mradius\u001b[0m\u001b[0;34m)\u001b[0m\u001b[0;34m\u001b[0m\u001b[0;34m\u001b[0m\u001b[0m\n",
            "\u001b[0;32m<ipython-input-13-f6afb524a40f>\u001b[0m in \u001b[0;36m__init__\u001b[0;34m(self, radius)\u001b[0m\n\u001b[1;32m      1\u001b[0m \u001b[0;32mclass\u001b[0m \u001b[0mCircle\u001b[0m\u001b[0;34m:\u001b[0m\u001b[0;34m\u001b[0m\u001b[0;34m\u001b[0m\u001b[0m\n\u001b[1;32m      2\u001b[0m   \u001b[0;32mdef\u001b[0m \u001b[0m__init__\u001b[0m\u001b[0;34m(\u001b[0m\u001b[0mself\u001b[0m\u001b[0;34m,\u001b[0m \u001b[0mradius\u001b[0m\u001b[0;34m)\u001b[0m\u001b[0;34m:\u001b[0m\u001b[0;34m\u001b[0m\u001b[0;34m\u001b[0m\u001b[0m\n\u001b[0;32m----> 3\u001b[0;31m     \u001b[0mself\u001b[0m\u001b[0;34m.\u001b[0m\u001b[0mradius\u001b[0m \u001b[0;34m=\u001b[0m \u001b[0mradius\u001b[0m\u001b[0;34m\u001b[0m\u001b[0;34m\u001b[0m\u001b[0m\n\u001b[0m\u001b[1;32m      4\u001b[0m \u001b[0;34m\u001b[0m\u001b[0m\n\u001b[1;32m      5\u001b[0m   \u001b[0;34m@\u001b[0m\u001b[0mproperty\u001b[0m\u001b[0;34m\u001b[0m\u001b[0;34m\u001b[0m\u001b[0m\n",
            "\u001b[0;32m<ipython-input-13-f6afb524a40f>\u001b[0m in \u001b[0;36mradius\u001b[0;34m(self, radius)\u001b[0m\n\u001b[1;32m     10\u001b[0m   \u001b[0;32mdef\u001b[0m \u001b[0mradius\u001b[0m\u001b[0;34m(\u001b[0m\u001b[0mself\u001b[0m\u001b[0;34m,\u001b[0m \u001b[0mradius\u001b[0m\u001b[0;34m)\u001b[0m\u001b[0;34m:\u001b[0m\u001b[0;34m\u001b[0m\u001b[0;34m\u001b[0m\u001b[0m\n\u001b[1;32m     11\u001b[0m     \u001b[0;32mif\u001b[0m \u001b[0mradius\u001b[0m\u001b[0;34m<\u001b[0m\u001b[0;36m0\u001b[0m\u001b[0;34m:\u001b[0m\u001b[0;34m\u001b[0m\u001b[0;34m\u001b[0m\u001b[0m\n\u001b[0;32m---> 12\u001b[0;31m       \u001b[0;32mraise\u001b[0m \u001b[0mValueError\u001b[0m\u001b[0;34m(\u001b[0m\u001b[0;34m\"Radius can not be negative\"\u001b[0m\u001b[0;34m)\u001b[0m\u001b[0;34m\u001b[0m\u001b[0;34m\u001b[0m\u001b[0m\n\u001b[0m\u001b[1;32m     13\u001b[0m     \u001b[0mself\u001b[0m\u001b[0;34m.\u001b[0m\u001b[0m_radius\u001b[0m \u001b[0;34m=\u001b[0m \u001b[0mradius\u001b[0m\u001b[0;34m\u001b[0m\u001b[0;34m\u001b[0m\u001b[0m\n\u001b[1;32m     14\u001b[0m \u001b[0;34m\u001b[0m\u001b[0m\n",
            "\u001b[0;31mValueError\u001b[0m: Radius can not be negative"
          ]
        }
      ]
    },
    {
      "cell_type": "markdown",
      "source": [
        "Lightweight Classes With .__slots__\n",
        "This feature makes instances memory-efficient"
      ],
      "metadata": {
        "id": "_MKSP7FoUPQN"
      }
    },
    {
      "cell_type": "code",
      "source": [
        "!pip install pympler\n",
        "from pympler import asizeof"
      ],
      "metadata": {
        "colab": {
          "base_uri": "https://localhost:8080/"
        },
        "id": "GaJ9Ccq_UOVK",
        "outputId": "a9e1cf13-c24f-46de-973b-1b01ba48e642"
      },
      "execution_count": 15,
      "outputs": [
        {
          "output_type": "stream",
          "name": "stdout",
          "text": [
            "Looking in indexes: https://pypi.org/simple, https://us-python.pkg.dev/colab-wheels/public/simple/\n",
            "Collecting pympler\n",
            "  Downloading Pympler-1.0.1-py3-none-any.whl (164 kB)\n",
            "\u001b[2K     \u001b[90m━━━━━━━━━━━━━━━━━━━━━━━━━━━━━━━━━━━━━━━\u001b[0m \u001b[32m164.8/164.8 kB\u001b[0m \u001b[31m6.6 MB/s\u001b[0m eta \u001b[36m0:00:00\u001b[0m\n",
            "\u001b[?25hInstalling collected packages: pympler\n",
            "Successfully installed pympler-1.0.1\n"
          ]
        }
      ]
    },
    {
      "cell_type": "code",
      "source": [
        "import numpy as np\n",
        "v = np.random.rand(16000*5,1)\n",
        "asizeof.asizeof(v)"
      ],
      "metadata": {
        "colab": {
          "base_uri": "https://localhost:8080/"
        },
        "id": "ljmjNPG0TgIW",
        "outputId": "44fb29fb-42b1-4061-c08b-479fbeec9a83"
      },
      "execution_count": 22,
      "outputs": [
        {
          "output_type": "execute_result",
          "data": {
            "text/plain": [
              "640144"
            ]
          },
          "metadata": {},
          "execution_count": 22
        }
      ]
    },
    {
      "cell_type": "markdown",
      "source": [],
      "metadata": {
        "id": "h3aR1Q8JXi1U"
      }
    },
    {
      "cell_type": "code",
      "source": [
        "\n",
        "# Dunder Methods: __init__, __repr__, __str__, __get__, __set__, __iter__ etc.\n",
        "# in print __str__ is called # informal representation\n",
        "# __repr__ # formal representation\n",
        "# Magic Methods"
      ],
      "metadata": {
        "id": "CCRjTCqOXjGy"
      },
      "execution_count": null,
      "outputs": []
    },
    {
      "cell_type": "markdown",
      "source": [
        "Instance Methods, Class Methods, Static Methods"
      ],
      "metadata": {
        "id": "3i8gPeFCWK8l"
      }
    },
    {
      "cell_type": "markdown",
      "source": [],
      "metadata": {
        "id": "C5ZZi1DSXGo9"
      }
    },
    {
      "cell_type": "markdown",
      "source": [
        "A class method is a method that takes the class object as its first argument instead of taking self\n",
        "classmethod is represent by @classmethod decorator\n",
        "\n",
        "Your Python classes can also have static methods. These methods don’t take the instance or the class as an argument.\n",
        "\n",
        "You’ll typically define a static method instead of a regular function outside the class when that function is closely related to your class, and you want to bundle it together for convenience or for consistency with your code’s API. "
      ],
      "metadata": {
        "id": "FjfqXCz2YUyq"
      }
    },
    {
      "cell_type": "markdown",
      "source": [
        "Exploring Specialized Classes From the Standard Library\n",
        "  Dataclasses\n",
        "    saves you from writing a lot of class-related boilerplate code, then you can take advantage of data classes and the dataclasses module.\n",
        "  if you’re looking for a tool that allows you to quickly create class-based enumerations of constants, \n",
        "  then you can turn your eye to the enum module and its different types of enumeration classes."
      ],
      "metadata": {
        "id": "5r8NsMkxaEl8"
      }
    },
    {
      "cell_type": "markdown",
      "source": [],
      "metadata": {
        "id": "ohXTEHJoZY9J"
      }
    },
    {
      "cell_type": "code",
      "source": [
        "from enum import Enum\n",
        "\n",
        "class WeekDay(Enum):\n",
        "  MONDAY=1\n",
        "  TUESDAY=2\n",
        "  WEDNESDAY=3\n",
        "\n",
        "print(WeekDay.MONDAY)\n",
        "WeekDay.MONDAY=2"
      ],
      "metadata": {
        "colab": {
          "base_uri": "https://localhost:8080/",
          "height": 347
        },
        "id": "lH0ZmVvHVCIp",
        "outputId": "37ce145c-7903-46fc-e154-0e913d8bcf98"
      },
      "execution_count": 25,
      "outputs": [
        {
          "output_type": "stream",
          "name": "stdout",
          "text": [
            "WeekDay.MONDAY\n"
          ]
        },
        {
          "output_type": "error",
          "ename": "AttributeError",
          "evalue": "ignored",
          "traceback": [
            "\u001b[0;31m---------------------------------------------------------------------------\u001b[0m",
            "\u001b[0;31mAttributeError\u001b[0m                            Traceback (most recent call last)",
            "\u001b[0;32m<ipython-input-25-a73a5f402b9b>\u001b[0m in \u001b[0;36m<cell line: 9>\u001b[0;34m()\u001b[0m\n\u001b[1;32m      7\u001b[0m \u001b[0;34m\u001b[0m\u001b[0m\n\u001b[1;32m      8\u001b[0m \u001b[0mprint\u001b[0m\u001b[0;34m(\u001b[0m\u001b[0mWeekDay\u001b[0m\u001b[0;34m.\u001b[0m\u001b[0mMONDAY\u001b[0m\u001b[0;34m)\u001b[0m\u001b[0;34m\u001b[0m\u001b[0;34m\u001b[0m\u001b[0m\n\u001b[0;32m----> 9\u001b[0;31m \u001b[0mWeekDay\u001b[0m\u001b[0;34m.\u001b[0m\u001b[0mMONDAY\u001b[0m\u001b[0;34m=\u001b[0m\u001b[0;36m2\u001b[0m\u001b[0;34m\u001b[0m\u001b[0;34m\u001b[0m\u001b[0m\n\u001b[0m",
            "\u001b[0;32m/usr/lib/python3.10/enum.py\u001b[0m in \u001b[0;36m__setattr__\u001b[0;34m(cls, name, value)\u001b[0m\n\u001b[1;32m    478\u001b[0m         \u001b[0mmember_map\u001b[0m \u001b[0;34m=\u001b[0m \u001b[0mcls\u001b[0m\u001b[0;34m.\u001b[0m\u001b[0m__dict__\u001b[0m\u001b[0;34m.\u001b[0m\u001b[0mget\u001b[0m\u001b[0;34m(\u001b[0m\u001b[0;34m'_member_map_'\u001b[0m\u001b[0;34m,\u001b[0m \u001b[0;34m{\u001b[0m\u001b[0;34m}\u001b[0m\u001b[0;34m)\u001b[0m\u001b[0;34m\u001b[0m\u001b[0;34m\u001b[0m\u001b[0m\n\u001b[1;32m    479\u001b[0m         \u001b[0;32mif\u001b[0m \u001b[0mname\u001b[0m \u001b[0;32min\u001b[0m \u001b[0mmember_map\u001b[0m\u001b[0;34m:\u001b[0m\u001b[0;34m\u001b[0m\u001b[0;34m\u001b[0m\u001b[0m\n\u001b[0;32m--> 480\u001b[0;31m             \u001b[0;32mraise\u001b[0m \u001b[0mAttributeError\u001b[0m\u001b[0;34m(\u001b[0m\u001b[0;34m'Cannot reassign members.'\u001b[0m\u001b[0;34m)\u001b[0m\u001b[0;34m\u001b[0m\u001b[0;34m\u001b[0m\u001b[0m\n\u001b[0m\u001b[1;32m    481\u001b[0m         \u001b[0msuper\u001b[0m\u001b[0;34m(\u001b[0m\u001b[0;34m)\u001b[0m\u001b[0;34m.\u001b[0m\u001b[0m__setattr__\u001b[0m\u001b[0;34m(\u001b[0m\u001b[0mname\u001b[0m\u001b[0;34m,\u001b[0m \u001b[0mvalue\u001b[0m\u001b[0;34m)\u001b[0m\u001b[0;34m\u001b[0m\u001b[0;34m\u001b[0m\u001b[0m\n\u001b[1;32m    482\u001b[0m \u001b[0;34m\u001b[0m\u001b[0m\n",
            "\u001b[0;31mAttributeError\u001b[0m: Cannot reassign members."
          ]
        }
      ]
    },
    {
      "cell_type": "markdown",
      "source": [
        "Inheritance is a powerful feature of object-oriented programming. It consists of creating hierarchical relationships between classes, where child classes inherit attributes and methods from their parent class."
      ],
      "metadata": {
        "id": "82ScU6V2akEr"
      }
    },
    {
      "cell_type": "code",
      "source": [
        "class Parent:\n",
        "  pass\n",
        "\n",
        "class Child(Parent):\n",
        "  pass"
      ],
      "metadata": {
        "id": "5LQyvf1TaGq7"
      },
      "execution_count": 26,
      "outputs": []
    },
    {
      "cell_type": "markdown",
      "source": [
        "children inherit from their parents and not the other way around.\n",
        "\n",
        "Inheritance-based hierarchies express an is-a-type-of relationship between subclasses and their base classes.\n",
        "\n",
        "Extending an inherited method in a subclass, which means that you’ll reuse the functionality provided by the superclass and add new functionality on top\n",
        "\n",
        "Overriding an inherited method in a subclass, which means that you’ll completely discard the functionality from the superclass and provide new functionality in the subclass\n",
        "\n",
        "multiple inheritance. This type of inheritance allows you to create a class that inherits from several parents. The subclass will have access to attributes and methods from all its parents.\n"
      ],
      "metadata": {
        "id": "qClSnLTubXga"
      }
    },
    {
      "cell_type": "markdown",
      "source": [
        "MRO (Method Resolution Order)\n",
        "\n",
        "When you’re using multiple inheritance, you can face situations where one class inherits from two or more classes that have the same base class. This is known as the diamond problem\n",
        "\n",
        "The real issue appears when multiple parents provide specific versions of the same method. In this case, it’d be difficult to determine which version of that method the subclass will end up using.\n",
        "\n",
        "Python’s MRO determines which implementation of a method or attribute to use when there are multiple versions of it in a class hierarchy.\n",
        "\n",
        "MRO Order: 1) The current class 2) The leftmost superclasses 3) The superclass listed next, from left to right, up to the last superclass 4) The superclasses of inherited classes 5) The object class"
      ],
      "metadata": {
        "id": "v77g3dlbcqAm"
      }
    },
    {
      "cell_type": "markdown",
      "source": [
        "?????????????? Mixin Classes ??????????"
      ],
      "metadata": {
        "id": "HsFGt29rdxSG"
      }
    },
    {
      "cell_type": "code",
      "source": [],
      "metadata": {
        "id": "aeAvcU4Ud0KK"
      },
      "execution_count": null,
      "outputs": []
    },
    {
      "cell_type": "markdown",
      "source": [
        "Inheritance alternative \n",
        "**Inheritance**-based hierarchies express an **is-a-type-of** \n",
        "**relationship** between subclasses and their base classes.\n",
        "\n",
        "You also have **composition**, which represents a **has-a** \n",
        "**relationship** between classes.\n",
        "\n",
        "Note that these components may not make sense as stand-alone classes.\n",
        "\n",
        "\n",
        "Delegation is another technique that you can use to promote code reuse in your OOP programs.\n",
        "\n",
        "With **delegation**, you can represent **can-do relationships** where an object relies on another object to perform a given task.\n",
        "\n",
        "where an object hands a task over to another object, which takes care of executing the task. Note that the delegated object can exist independently from the delegator.\n",
        "\n",
        "\n",
        "Composition allows you to build an object from its components. The composite object doesn’t have direct access to each component’s interface. However, it can leverage each component’s implementation."
      ],
      "metadata": {
        "id": "9vGxg9Ktedl6"
      }
    },
    {
      "cell_type": "markdown",
      "source": [
        "**Dependency Injection**'\n",
        "\n",
        "Dependency injection is a design pattern that you can use to achieve loose coupling between a class and its components. \n",
        "\n",
        "With this technique, you can provide an object’s dependencies from the outside, rather than inheriting or implementing them in the object itself. "
      ],
      "metadata": {
        "id": "kvHOqo2LfdqJ"
      }
    },
    {
      "cell_type": "markdown",
      "source": [
        "**ABC (Abstract BAse Classes) and Interfaces and Polymorphism**\n",
        "\n",
        "You can’t instantiate ABCs directly. You must subclass them. In a sense, ABCs work as templates for other classes to inherit from.\n",
        "\n",
        "By using the @abstractmethod decorator, you declare that these two methods are the common interface that all the subclasses of Shape must implement.\n",
        "\n",
        "Having a set of classes to implement the same interface with specific behaviors for concrete classes is a great way to unlock polymorphism."
      ],
      "metadata": {
        "id": "OjBhwvyMfxFB"
      }
    },
    {
      "cell_type": "code",
      "source": [],
      "metadata": {
        "id": "DlSuS3CGa4Kf"
      },
      "execution_count": null,
      "outputs": []
    }
  ]
}